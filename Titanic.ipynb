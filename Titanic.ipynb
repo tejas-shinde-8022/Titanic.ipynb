{
 "cells": [
  {
   "cell_type": "code",
   "execution_count": 3,
   "id": "10141086",
   "metadata": {},
   "outputs": [
    {
     "name": "stderr",
     "output_type": "stream",
     "text": [
      "WARNING: Ignoring invalid distribution ~ensorflow-intel (C:\\Users\\Home\\AppData\\Roaming\\Python\\Python311\\site-packages)\n",
      "WARNING: Ignoring invalid distribution ~ensorflow-intel (C:\\Users\\Home\\AppData\\Roaming\\Python\\Python311\\site-packages)\n",
      "WARNING: Ignoring invalid distribution ~ensorflow-intel (C:\\Users\\Home\\AppData\\Roaming\\Python\\Python311\\site-packages)\n",
      "WARNING: Ignoring invalid distribution ~ensorflow-intel (C:\\Users\\Home\\AppData\\Roaming\\Python\\Python311\\site-packages)\n",
      "WARNING: Ignoring invalid distribution ~ensorflow-intel (C:\\Users\\Home\\AppData\\Roaming\\Python\\Python311\\site-packages)\n",
      "WARNING: Ignoring invalid distribution ~ensorflow-intel (C:\\Users\\Home\\AppData\\Roaming\\Python\\Python311\\site-packages)\n"
     ]
    },
    {
     "name": "stdout",
     "output_type": "stream",
     "text": [
      "Requirement already satisfied: scikit-learn in c:\\users\\home\\appdata\\local\\programs\\python\\python311\\lib\\site-packages (1.3.0)\n",
      "Requirement already satisfied: pandas in c:\\users\\home\\appdata\\local\\programs\\python\\python311\\lib\\site-packages (1.5.3)\n",
      "Requirement already satisfied: numpy in c:\\users\\home\\appdata\\local\\programs\\python\\python311\\lib\\site-packages (1.23.5)\n",
      "Requirement already satisfied: scipy>=1.5.0 in c:\\users\\home\\appdata\\roaming\\python\\python311\\site-packages (from scikit-learn) (1.10.1)\n",
      "Requirement already satisfied: joblib>=1.1.1 in c:\\users\\home\\appdata\\local\\programs\\python\\python311\\lib\\site-packages (from scikit-learn) (1.3.1)\n",
      "Requirement already satisfied: threadpoolctl>=2.0.0 in c:\\users\\home\\appdata\\local\\programs\\python\\python311\\lib\\site-packages (from scikit-learn) (3.1.0)\n",
      "Requirement already satisfied: python-dateutil>=2.8.1 in c:\\users\\home\\appdata\\local\\programs\\python\\python311\\lib\\site-packages (from pandas) (2.8.2)\n",
      "Requirement already satisfied: pytz>=2020.1 in c:\\users\\home\\appdata\\local\\programs\\python\\python311\\lib\\site-packages (from pandas) (2022.7.1)\n",
      "Requirement already satisfied: six>=1.5 in c:\\users\\home\\appdata\\local\\programs\\python\\python311\\lib\\site-packages (from python-dateutil>=2.8.1->pandas) (1.16.0)\n",
      "Accuracy: 0.7902097902097902\n",
      "Pclass: -1.2829371131719982\n",
      "Sex: -2.469725716717246\n",
      "Age: -0.030019623332285125\n",
      "Embarked: 0.10235053308998313\n"
     ]
    },
    {
     "data": {
      "text/plain": [
       "['titanic_model.pkl']"
      ]
     },
     "execution_count": 3,
     "metadata": {},
     "output_type": "execute_result"
    }
   ],
   "source": [
    "# Step 1: Set up the Environment\n",
    "# Install required libraries if not already installed\n",
    "!pip install scikit-learn pandas numpy\n",
    "\n",
    "# Step 2: Load the Data\n",
    "import pandas as pd\n",
    "\n",
    "# Assuming you have the Titanic dataset file (train.csv) in the same directory as your notebook\n",
    "data = pd.read_csv(r'C:\\Users\\Home\\Downloads\\train.csv')\n",
    "\n",
    "# Step 3: Data Preprocessing\n",
    "# Handle missing values\n",
    "data = data.dropna(subset=['Age', 'Embarked'])  # Drop rows with missing age or embarked values\n",
    "data = data.reset_index(drop=True)  # Reset the index after dropping rows\n",
    "\n",
    "# Encode categorical variables\n",
    "data['Sex'] = data['Sex'].map({'female': 0, 'male': 1}).astype(int)\n",
    "data['Embarked'] = data['Embarked'].map({'S': 0, 'C': 1, 'Q': 2}).astype(int)\n",
    "\n",
    "# Split the data into features (X) and target variable (y)\n",
    "X = data[['Pclass', 'Sex', 'Age', 'Embarked']]\n",
    "y = data['Survived']\n",
    "\n",
    "# Step 4: Model Training\n",
    "from sklearn.model_selection import train_test_split\n",
    "from sklearn.linear_model import LogisticRegression\n",
    "from sklearn.metrics import accuracy_score\n",
    "\n",
    "# Split the data into training and testing sets\n",
    "X_train, X_test, y_train, y_test = train_test_split(X, y, test_size=0.2, random_state=42)\n",
    "\n",
    "# Train a logistic regression model\n",
    "model = LogisticRegression()\n",
    "model.fit(X_train, y_train)\n",
    "\n",
    "# Evaluate the model\n",
    "y_pred = model.predict(X_test)\n",
    "accuracy = accuracy_score(y_test, y_pred)\n",
    "print(\"Accuracy:\", accuracy)\n",
    "\n",
    "# Step 5: Feature Importance Analysis\n",
    "# Logistic regression provides coefficients as feature importance\n",
    "feature_importance = model.coef_[0]\n",
    "feature_names = ['Pclass', 'Sex', 'Age', 'Embarked']\n",
    "\n",
    "# Print the importance of each feature\n",
    "for name, importance in zip(feature_names, feature_importance):\n",
    "    print(f\"{name}: {importance}\")\n",
    "\n",
    "# Step 6: Model Deployment\n",
    "# Save the trained model\n",
    "import joblib\n",
    "\n",
    "joblib.dump(model, 'titanic_model.pkl')\n"
   ]
  },
  {
   "cell_type": "code",
   "execution_count": 5,
   "id": "4a7dc618",
   "metadata": {},
   "outputs": [
    {
     "data": {
      "image/png": "[encoded data removed]",
      "text/plain": [
       "<Figure size 640x480 with 1 Axes>"
      ]
     },
     "metadata": {},
     "output_type": "display_data"
    }
   ],
   "source": [
    "import matplotlib.pyplot as plt\n",
    "\n",
    "# Replace the numeric values with labels\n",
    "data['Sex'] = data['Sex'].map({0: 'Female', 1: 'Male'})\n",
    "\n",
    "# Group the data by gender and survival status\n",
    "survival_by_gender = data.groupby(['Sex', 'Survived']).size().unstack()\n",
    "\n",
    "# Plot the bar plot\n",
    "survival_by_gender.plot(kind='bar', stacked=True)\n",
    "\n",
    "# Set the plot labels and title\n",
    "plt.xlabel('Gender')\n",
    "plt.ylabel('Count')\n",
    "plt.title('Survival Count by Gender')\n",
    "\n",
    "# Set the legend\n",
    "plt.legend(['Did not survive', 'Survived'])\n",
    "\n",
    "# Show the plot\n",
    "plt.show()\n"
   ]
  }
 ],
 "metadata": {
  "kernelspec": {
   "display_name": "Python 3 (ipykernel)",
   "language": "python",
   "name": "python3"
  },
  "language_info": {
   "codemirror_mode": {
    "name": "ipython",
    "version": 3
   },
   "file_extension": ".py",
   "mimetype": "text/x-python",
   "name": "python",
   "nbconvert_exporter": "python",
   "pygments_lexer": "ipython3",
   "version": "3.11.1"
  }
 },
 "nbformat": 4,
 "nbformat_minor": 5
}
